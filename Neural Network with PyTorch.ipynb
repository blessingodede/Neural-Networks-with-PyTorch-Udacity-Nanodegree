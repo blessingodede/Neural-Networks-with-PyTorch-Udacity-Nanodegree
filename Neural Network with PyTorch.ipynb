{
 "cells": [
  {
   "cell_type": "markdown",
   "metadata": {},
   "source": [
    "# Neural networks with PyTorch\n",
    "\n",
    "Deep learning networks tend to be massive with dozens or hundreds of layers, that's where the term \"deep\" comes from. You can build one of these deep networks using only weight matrices as we did in the previous notebook, but in general it's very cumbersome and difficult to implement. PyTorch has a nice module `nn` that provides a nice way to efficiently build large neural networks."
   ]
  },
  {
   "cell_type": "code",
   "execution_count": 1,
   "metadata": {},
   "outputs": [],
   "source": [
    "# import necessary packages\n",
    "\n",
    "%matplotlib inline\n",
    "%config InlineBackend.figure_format = 'retina'\n",
    "\n",
    "import numpy as np\n",
    "import torch\n",
    "\n",
    "import helper\n",
    "\n",
    "import matplotlib.pyplot as plt"
   ]
  },
  {
   "cell_type": "markdown",
   "metadata": {},
   "source": [
    "Now we're going to build a larger network that can solve a (formerly) difficult problem, identifying text in an image. Here we'll use the MNIST dataset which consists of greyscale handwritten digits. Each image is 28x28 pixels, you can see a sample below\n",
    "\n",
    "<img src='assets/mnist.png'>\n",
    "\n",
    "Our goal is to build a neural network that can take one of these images and predict the digit in the image.\n",
    "\n",
    "First up, we need to get our dataset. This is provided through the `torchvision` package. The code below will download the MNIST dataset, then create training and test datasets for us. Don't worry too much about the details here, you'll learn more about this later."
   ]
  },
  {
   "cell_type": "code",
   "execution_count": 3,
   "metadata": {},
   "outputs": [
    {
     "name": "stdout",
     "output_type": "stream",
     "text": [
      "Downloading http://yann.lecun.com/exdb/mnist/train-images-idx3-ubyte.gz to MNIST_data/MNIST/raw/train-images-idx3-ubyte.gz\n"
     ]
    },
    {
     "name": "stderr",
     "output_type": "stream",
     "text": [
      "100.1%"
     ]
    },
    {
     "name": "stdout",
     "output_type": "stream",
     "text": [
      "Extracting MNIST_data/MNIST/raw/train-images-idx3-ubyte.gz\n",
      "Downloading http://yann.lecun.com/exdb/mnist/train-labels-idx1-ubyte.gz to MNIST_data/MNIST/raw/train-labels-idx1-ubyte.gz\n"
     ]
    },
    {
     "name": "stderr",
     "output_type": "stream",
     "text": [
      "113.5%"
     ]
    },
    {
     "name": "stdout",
     "output_type": "stream",
     "text": [
      "Extracting MNIST_data/MNIST/raw/train-labels-idx1-ubyte.gz\n",
      "Downloading http://yann.lecun.com/exdb/mnist/t10k-images-idx3-ubyte.gz to MNIST_data/MNIST/raw/t10k-images-idx3-ubyte.gz\n"
     ]
    },
    {
     "name": "stderr",
     "output_type": "stream",
     "text": [
      "100.4%"
     ]
    },
    {
     "name": "stdout",
     "output_type": "stream",
     "text": [
      "Extracting MNIST_data/MNIST/raw/t10k-images-idx3-ubyte.gz\n",
      "Downloading http://yann.lecun.com/exdb/mnist/t10k-labels-idx1-ubyte.gz to MNIST_data/MNIST/raw/t10k-labels-idx1-ubyte.gz\n"
     ]
    },
    {
     "name": "stderr",
     "output_type": "stream",
     "text": [
      "180.4%"
     ]
    },
    {
     "name": "stdout",
     "output_type": "stream",
     "text": [
      "Extracting MNIST_data/MNIST/raw/t10k-labels-idx1-ubyte.gz\n",
      "Processing...\n",
      "Done!\n"
     ]
    }
   ],
   "source": [
    "from torchvision import datasets, transforms\n",
    "#Define a transform to normalize the data\n",
    "transform = transforms.Compose([transforms.ToTensor(),transforms.Normalize((0.5,), (0.5,)),])\n",
    "# Download and load the training data\n",
    "trainset = datasets.MNIST('MNIST_data/', download=True, train = True, transform=transform)\n",
    "trainloader = torch.utils.data.DataLoader(trainset, batch_size=64, shuffle=True)"
   ]
  },
  {
   "cell_type": "markdown",
   "metadata": {},
   "source": [
    "We have the training data loaded into `trainloader` and we make that an iterator with `iter(trainloader)`. Later, we'll use this to loop through the dataset for training, like\n",
    "\n",
    "```python\n",
    "for image, label in trainloader:\n",
    "    ## do things with images and labels\n",
    "```\n",
    "\n",
    "You'll notice I created the `trainloader` with a batch size of 64, and `shuffle=True`. The batch size is the number of images we get in one iteration from the data loader and pass through our network, often called a *batch*. And `shuffle=True` tells it to shuffle the dataset every time we start going through the data loader again. But here I'm just grabbing the first batch so we can check out the data. We can see below that `images` is just a tensor with size `(64, 1, 28, 28)`. So, 64 images per batch, 1 color channel, and 28x28 images."
   ]
  },
  {
   "cell_type": "code",
   "execution_count": 4,
   "metadata": {},
   "outputs": [
    {
     "name": "stdout",
     "output_type": "stream",
     "text": [
      "<class 'torch.Tensor'>\n",
      "torch.Size([64, 1, 28, 28])\n",
      "torch.Size([64])\n"
     ]
    }
   ],
   "source": [
    "dataiter = iter(trainloader)\n",
    "images, labels = dataiter.next()\n",
    "print(type(images))\n",
    "print(images.shape)\n",
    "print(labels.shape)"
   ]
  },
  {
   "cell_type": "markdown",
   "metadata": {},
   "source": [
    "This is what one of the images looks like."
   ]
  },
  {
   "cell_type": "code",
   "execution_count": 5,
   "metadata": {},
   "outputs": [
    {
     "data": {
      "image/png": "[encoded data removed]",
      "text/plain": [
       "<Figure size 432x288 with 1 Axes>"
      ]
     },
     "metadata": {
      "image/png": {
       "height": 250,
       "width": 253
      }
     },
     "output_type": "display_data"
    }
   ],
   "source": [
    "plt.imshow(images[1].numpy().squeeze(), cmap='Greys_r');"
   ]
  },
  {
   "cell_type": "markdown",
   "metadata": {},
   "source": [
    "First, let's try to build a simple network for this dataset using weight matrices and matrix multiplications. Then, we'll see how to do it using PyTorch's `nn` module which provides a much more convenient and powerful method for defining network architectures.\n",
    "\n",
    "The networks you've seen so far are called *fully-connected* or *dense* networks. Each unit in one layer is connected to each unit in the next layer. In fully-connected networks, the input to each layer must be a one-dimensional vector (which can be stacked into a 2D tensor as a batch of multiple examples). However, our images are 28x28 2D tensors, so we need to convert them into 1D vectors. Thinking about sizes, we need to convert the batch of images with shape `(64, 1, 28, 28)` to a have a shape of `(64, 784)`, 784 is 28 times 28. This is typically called *flattening*, we flattened the 2D images into 1D vectors.\n",
    "\n",
    "Previously you built a network with one output unit. Here we need 10 output units, one for each digit. We want our network to predict the digit shown in an image, so what we'll do is calculate probabilities that the image is of any one digit or class. This ends up being a discrete probability distribution over the classes (digits) that tells us the most likely class for the image. That means we need 10 output units for the 10 classes (digits). We'll see how to convert the network output into a probability distribution next.\n",
    "\n",
    "> **Exercise:** Flatten the batch of images `images`. Then build a multi-layer network with 784 input units, 256 hidden units, and 10 output units using random tensors for the weights and biases. For now, use a sigmoid activation for the hidden layer. Leave the output layer without an activation, we'll add one that gives us a probability distribution next."
   ]
  },
  {
   "cell_type": "code",
   "execution_count": 6,
   "metadata": {},
   "outputs": [
    {
     "name": "stdout",
     "output_type": "stream",
     "text": [
      "tensor([[-1.3132e+01,  7.3833e+00, -6.2040e+00, -5.6951e-01, -1.9394e+00,\n",
      "         -2.4225e+01,  7.2786e+00,  6.4390e+00, -4.3047e+00,  1.5639e+01],\n",
      "        [-4.6715e+00, -1.0953e+00, -1.7801e+01,  3.0412e+00,  6.1324e-02,\n",
      "         -1.7872e+01,  7.5289e+00,  6.4424e+00,  9.4558e-01,  1.8173e+01],\n",
      "        [-1.4822e+01,  5.6820e+00, -1.9836e+01,  8.7194e+00, -1.0557e+01,\n",
      "         -1.6000e+01,  1.2141e+01,  1.3239e+00, -2.8153e+00, -5.2900e-02],\n",
      "        [-1.1076e+01,  1.5979e+01, -9.6663e+00,  5.0513e+00, -1.8251e+00,\n",
      "         -1.8869e+01,  4.6845e+00,  1.1179e+01, -1.1175e+01, -1.3368e+00],\n",
      "        [-1.9085e+01,  4.9932e+00, -1.0299e+01,  4.3728e+00, -1.0151e+01,\n",
      "         -2.5094e+01,  7.1625e+00,  1.5672e-01, -7.4036e+00,  4.2679e+00],\n",
      "        [-8.3849e+00,  1.3428e+00, -1.5987e+01,  4.2721e+00, -7.8371e+00,\n",
      "         -1.3422e+01,  8.8993e+00,  6.3602e+00,  9.2575e-01,  9.0486e+00],\n",
      "        [-7.0495e+00,  6.7556e-01, -1.7361e+01, -6.0725e+00, -8.2015e-01,\n",
      "         -2.8140e+01,  1.7953e+01,  8.2953e+00,  1.5690e+00,  1.3388e+01],\n",
      "        [-6.9408e+00,  6.7034e+00, -2.1083e+01,  5.6912e+00, -7.1454e+00,\n",
      "         -1.1481e+01,  7.8407e+00,  1.3454e+00, -8.6956e+00,  6.4927e+00],\n",
      "        [-1.3608e+01,  1.1871e+00, -1.3949e+01, -3.5286e+00, -7.4760e+00,\n",
      "         -1.8098e+01,  1.4660e+01, -3.9499e+00, -8.2640e+00,  6.3902e+00],\n",
      "        [-8.6350e+00,  9.0692e+00, -9.5614e+00, -2.6958e+00, -1.3766e+01,\n",
      "         -2.4621e+01,  1.3451e+01,  1.2793e+01, -8.3683e-01,  1.1632e+01],\n",
      "        [-1.0789e+01, -6.5790e-02, -1.2749e+01,  1.0075e+01,  1.0856e-01,\n",
      "         -1.5355e+01,  1.4071e+00,  5.9991e+00, -6.9467e+00,  6.3471e+00],\n",
      "        [-1.7378e+01,  7.9817e+00, -9.8436e+00, -3.2203e+00, -6.1287e+00,\n",
      "         -2.8606e+01,  1.0414e+01, -2.0785e-01, -6.8457e+00, -1.4120e+00],\n",
      "        [-7.0093e+00,  4.5064e+00, -2.0676e+01,  5.3880e+00, -1.2698e+01,\n",
      "         -2.5154e+01,  1.1871e+00, -5.8999e-01,  2.2159e+00,  1.6888e+01],\n",
      "        [-6.4480e+00,  3.9706e+00, -2.7522e+01,  3.4488e+00, -8.1063e+00,\n",
      "         -3.1909e+01,  5.3020e+00, -2.7781e+00, -7.1885e+00,  8.4538e+00],\n",
      "        [-1.3754e+01,  1.0831e+01, -2.1070e+01,  1.0466e+01, -3.9330e+00,\n",
      "         -1.4534e+01,  6.3550e+00, -3.0573e+00, -1.1374e+01,  1.9269e+00],\n",
      "        [-8.4366e+00,  5.8624e+00, -1.8889e+01,  3.2420e+00, -8.0120e+00,\n",
      "         -2.3346e+01,  1.4488e+01,  3.9984e-01, -1.4281e+01,  1.3667e+01],\n",
      "        [-6.0085e+00, -2.2650e-01, -1.5815e+01,  1.7994e+00, -8.1125e+00,\n",
      "         -2.3766e+01,  1.8791e+00, -4.7389e+00, -8.5738e+00,  1.2342e+01],\n",
      "        [-8.7422e+00, -2.1558e+00, -1.7320e+01,  8.8107e-01, -5.6702e+00,\n",
      "         -2.1900e+01,  1.4421e+00, -1.9925e+00, -3.8862e+00,  1.3121e+01],\n",
      "        [-1.0579e+01, -1.7750e+00, -2.2419e+01, -4.0126e+00, -9.1806e+00,\n",
      "         -1.4967e+01,  2.0301e+01,  4.0662e+00, -2.0424e-01,  1.0804e+01],\n",
      "        [-5.7557e+00,  4.5558e+00, -1.3569e+01,  4.3336e+00, -5.7456e+00,\n",
      "         -2.3971e+01,  1.3638e+01,  6.1889e+00, -1.2484e+01,  5.1286e+00],\n",
      "        [-7.0300e+00,  3.2462e+00, -2.0923e+01, -5.6908e+00, -9.1170e+00,\n",
      "         -3.3689e+01, -1.0356e+00,  4.2813e+00, -5.6137e-01,  1.8299e+01],\n",
      "        [-2.5251e+01,  5.5573e+00, -2.2543e+01,  8.4485e-01, -6.4700e+00,\n",
      "         -2.4912e+01,  1.1614e+01,  6.5330e+00, -5.4858e+00,  1.0378e+01],\n",
      "        [ 3.8884e-01,  6.8967e+00, -1.2252e+01,  1.1425e+01, -6.9888e+00,\n",
      "         -1.9247e+01,  3.3416e+00,  5.9269e+00, -2.9420e+00,  2.2543e+00],\n",
      "        [-1.9042e+01,  9.2170e+00, -1.4353e+01,  1.4829e+01, -9.2748e+00,\n",
      "         -1.8505e+01,  1.0551e+01, -3.7752e+00, -1.0766e+01,  3.1330e+00],\n",
      "        [-1.4132e+01, -7.3532e-02, -1.3396e+01,  6.2358e+00, -1.0099e+01,\n",
      "         -2.6832e+01, -1.7886e+00, -1.9223e+00, -8.1617e+00,  2.6499e+00],\n",
      "        [-1.3939e+01,  2.3914e+00, -1.6346e+01,  9.4107e+00, -2.5130e+00,\n",
      "         -2.3004e+01,  2.1851e+00, -7.4604e-02, -4.5818e+00,  2.1190e+00],\n",
      "        [-1.8730e+01, -1.2054e+00, -1.6279e+01, -3.3057e+00, -1.0841e+01,\n",
      "         -2.5160e+01,  1.4778e+01,  1.2441e+00, -9.5446e+00,  1.1080e+01],\n",
      "        [-9.8390e+00,  5.7258e+00, -1.9207e+01,  1.6362e+00, -1.9509e+00,\n",
      "         -1.8166e+01,  3.7747e+00, -5.3386e+00, -1.1221e+01,  8.5747e+00],\n",
      "        [-2.1020e+01,  4.5877e+00, -1.3777e+01,  9.6101e+00, -7.2859e+00,\n",
      "         -1.9199e+01, -1.6102e+00,  6.1855e-01, -5.3111e+00,  2.2711e-02],\n",
      "        [-1.0728e+01,  9.3305e+00, -2.1373e+01, -3.0113e+00, -5.0884e+00,\n",
      "         -1.7097e+01,  1.2940e+01,  5.0299e+00,  9.7640e+00,  3.8497e+00],\n",
      "        [ 2.4900e+00,  7.4861e+00, -1.2367e+01,  6.2731e+00, -1.0353e+01,\n",
      "         -1.9031e+01,  1.7455e+01,  3.4426e+00,  2.4337e+00,  1.7980e-01],\n",
      "        [-1.5604e+01, -6.8634e-01, -1.1198e+01,  7.2278e+00, -7.2387e+00,\n",
      "         -2.0795e+01,  8.3137e+00, -5.0821e+00, -8.4748e+00,  1.5921e-01],\n",
      "        [-1.4168e+01,  9.6462e+00, -6.9104e+00,  5.9472e+00,  1.6570e+00,\n",
      "         -3.1650e+01,  1.4088e+01,  4.1557e+00, -8.2432e+00,  9.9684e+00],\n",
      "        [-1.4016e+01,  1.4227e+00, -1.2827e+01,  4.7931e+00, -1.1269e+00,\n",
      "         -2.0162e+01,  1.4188e+00,  5.5868e+00, -6.3350e+00,  6.7773e+00],\n",
      "        [-1.1537e+01,  4.6701e+00, -2.0861e+01,  5.7341e+00, -4.5244e+00,\n",
      "         -1.9096e+01,  2.4152e+00, -1.0331e+00, -1.2554e+01,  4.9807e+00],\n",
      "        [-2.1149e+01,  5.0498e+00, -1.5645e+01, -2.2097e+00, -4.4990e+00,\n",
      "         -2.5661e+01,  1.2404e+01, -5.9041e-01, -5.8085e+00,  2.3362e+00],\n",
      "        [-3.9963e-01,  4.9068e+00, -1.7218e+01, -1.1785e+00,  1.2228e+00,\n",
      "         -2.4641e+01,  1.4533e+01, -6.9395e-01, -1.4309e+00, -3.4678e-01],\n",
      "        [-1.1472e+01,  1.3098e+00, -1.5356e+01,  4.7583e+00, -1.5336e+01,\n",
      "         -1.8144e+01,  9.4033e-01,  2.3143e+00, -9.1479e+00,  1.2395e+01],\n",
      "        [-1.4807e+01,  5.4961e+00, -1.6060e+01,  1.6777e+00, -8.7423e+00,\n",
      "         -2.9838e+01,  9.8799e+00, -5.0135e+00, -2.9383e+00,  5.9859e+00],\n",
      "        [-1.1438e+01,  1.1303e+00, -1.5756e+01,  9.5221e+00, -2.1725e+00,\n",
      "         -1.9274e+01, -2.9346e+00,  3.6722e+00, -1.1631e+01,  1.1289e+01],\n",
      "        [-1.8120e+01,  6.5404e+00, -8.9552e+00,  1.0049e+01, -5.1617e+00,\n",
      "         -1.7451e+01,  4.7025e+00,  2.3184e+00, -8.4311e+00, -3.3496e+00],\n",
      "        [-7.4729e+00,  8.0662e+00, -1.9715e+01,  1.0438e+01, -5.3571e+00,\n",
      "         -1.7115e+01,  5.7988e+00,  3.7350e+00, -5.0040e+00,  1.3530e+01],\n",
      "        [-1.5809e+01,  4.1968e+00, -2.3784e+01, -7.0244e-01, -1.6483e-01,\n",
      "         -2.4636e+01,  1.7075e+01,  5.2792e+00, -1.1717e+01,  1.2499e+01],\n",
      "        [-1.1153e+01,  8.9244e+00, -2.5572e+01,  1.8072e-01,  6.0982e-02,\n",
      "         -1.0659e+01,  9.9591e+00,  8.6049e+00, -1.0958e+00,  1.1009e+00],\n",
      "        [-1.8677e+01,  1.3920e+01, -1.4699e+01,  6.7910e+00, -1.3513e+00,\n",
      "         -1.9234e+01,  1.1228e+01, -7.8610e-01, -4.5319e+00,  3.1455e+00],\n",
      "        [-9.3390e+00,  6.0492e+00, -1.9383e+01,  1.6547e+00, -6.9494e+00,\n",
      "         -1.7254e+01,  8.4026e+00,  1.0896e+01,  6.2873e+00,  6.2375e+00],\n",
      "        [-2.3809e+01,  7.3613e-01, -1.6126e+01,  6.2248e+00, -1.2737e+01,\n",
      "         -2.6827e+01,  6.5056e+00, -3.0285e+00, -8.1382e+00,  6.8345e+00],\n",
      "        [-1.4809e+01,  1.1667e+00, -1.6374e+01, -9.8734e-01, -1.7150e+00,\n",
      "         -2.5749e+01,  6.8953e+00,  1.0275e+01, -1.0633e+01,  6.4033e+00],\n",
      "        [-1.1776e+01, -8.2529e-01, -2.0069e+01,  6.5357e+00, -1.1185e+01,\n",
      "         -2.2159e+01,  2.3036e-01, -3.2879e+00, -1.2123e+01,  8.6589e+00],\n",
      "        [-1.3894e+01, -1.4573e-01, -1.7074e+01,  5.0101e+00, -4.6570e+00,\n",
      "         -1.9030e+01,  6.7746e+00, -7.5509e-01, -7.8999e+00,  3.9439e+00],\n",
      "        [-1.8955e+01, -8.7512e-01, -8.1586e+00,  3.6321e+00,  1.4327e-01,\n",
      "         -2.2407e+01,  1.6101e+01, -3.8618e+00, -7.7126e+00,  2.1111e+00],\n",
      "        [-1.1797e+01,  9.8144e+00, -1.8555e+01,  1.2416e+01, -7.3520e+00,\n",
      "         -1.8858e+01,  5.1003e+00,  6.5291e+00, -1.1265e+01,  4.9883e+00],\n",
      "        [-1.6960e+01,  1.0423e+01, -1.2323e+01,  8.5882e+00,  2.9936e+00,\n",
      "         -2.0008e+01,  7.2605e+00, -7.2292e+00, -4.3966e+00,  4.5830e+00],\n",
      "        [-1.0336e+01,  2.9450e+00, -1.2876e+01,  8.0983e+00, -6.5127e+00,\n",
      "         -2.3596e+01,  5.9868e+00,  8.4796e-01, -1.5328e+00,  6.5428e+00],\n",
      "        [-1.5699e+01, -4.5714e+00, -1.7216e+01,  1.3455e+01, -1.4305e+01,\n",
      "         -1.4925e+01,  2.1386e+00,  4.8125e+00, -1.6551e+00, -1.5728e+00],\n",
      "        [-1.1361e+01,  2.7989e+00, -1.9689e+01,  7.2498e+00, -7.2778e+00,\n",
      "         -8.8784e+00,  9.1281e+00, -2.2838e+00, -9.0278e+00,  2.4500e+00],\n",
      "        [-1.1708e+01,  7.4108e+00, -1.9205e+01,  3.2119e+00, -7.0951e+00,\n",
      "         -2.8255e+01,  3.9969e+00,  3.4179e+00, -3.1739e+00,  5.2489e+00],\n",
      "        [-1.5761e+01,  4.9646e+00, -1.6586e+01,  8.9792e+00, -3.4727e+00,\n",
      "         -2.4698e+01,  8.4820e+00,  4.6405e+00, -5.6463e+00,  5.7885e+00],\n",
      "        [-4.8032e+00,  2.8885e+00, -1.2124e+01,  4.2062e+00,  7.4966e-01,\n",
      "         -1.1469e+01,  2.0100e+00, -2.9106e-01, -3.6212e+00,  2.0880e+00],\n",
      "        [-1.7679e+01,  1.8111e+00, -1.3411e+01,  6.5761e-01, -1.1177e+01,\n",
      "         -1.6469e+01,  1.0753e+01, -2.4066e+00, -3.1943e+00,  4.8943e+00],\n",
      "        [-8.8983e+00,  6.8312e+00, -1.8157e+01, -2.5675e+00, -7.7365e+00,\n",
      "         -2.7712e+01,  5.3990e+00,  5.2566e+00, -9.3535e+00,  1.9082e+00],\n",
      "        [-1.6767e+01,  3.2234e+00, -1.3559e+01,  2.5908e+00, -1.3746e+01,\n",
      "         -2.3211e+01,  9.0423e+00, -4.4797e+00, -8.4407e+00,  1.4085e+00],\n",
      "        [ 1.9470e+00,  9.2911e+00, -1.6355e+01,  9.1182e+00,  2.0774e-01,\n",
      "         -2.4323e+01,  2.0129e+01,  9.7397e+00, -7.2768e+00,  4.9190e+00],\n",
      "        [-7.6342e+00,  4.2806e+00, -6.2323e+00, -1.6752e+00, -1.4375e+01,\n",
      "         -1.5038e+01,  1.4437e+01,  7.8427e+00,  2.8925e+00,  2.6805e+00]])\n"
     ]
    }
   ],
   "source": [
    "'''\n",
    "Solution\n",
    "'''\n",
    "def activation(x):\n",
    "    return 1/(1+torch.exp(-x))\n",
    "# Flatten  the input image\n",
    "inputs = images.view(images.shape[0], -1)\n",
    "\n",
    "# Creating Parameters\n",
    "\n",
    "W1 = torch.randn(784, 256)\n",
    "B1 = torch.randn(256)\n",
    "\n",
    "W2 = torch.randn(256, 10)\n",
    "B2 = torch.randn(10)\n",
    "\n",
    "h = activation(torch.mm(inputs, W1)+ B1)\n",
    "outputs = torch.mm(h, W2)+B2\n",
    "print(outputs)"
   ]
  },
  {
   "cell_type": "markdown",
   "metadata": {},
   "source": [
    "Now we have 10 outputs for our network. We want to pass in an image to our network and get out a probability distribution over the classes that tells us the likely class(es) the image belongs to. Something that looks like this:\n",
    "<img src='assets/image_distribution.png' width=500px>\n",
    "\n",
    "Here we see that the probability for each class is roughly the same. This is representing an untrained network, it hasn't seen any data yet so it just returns a uniform distribution with equal probabilities for each class.\n",
    "\n",
    "To calculate this probability distribution, we often use the [**softmax** function](https://en.wikipedia.org/wiki/Softmax_function). Mathematically this looks like\n",
    "\n",
    "$$\n",
    "\\Large \\sigma(x_i) = \\cfrac{e^{x_i}}{\\sum_k^K{e^{x_k}}}\n",
    "$$\n",
    "\n",
    "What this does is squish each input $x_i$ between 0 and 1 and normalizes the values to give you a proper probability distribution where the probabilites sum up to one.\n",
    "\n",
    "> **Exercise:** Implement a function `softmax` that performs the softmax calculation and returns probability distributions for each example in the batch. Note that you'll need to pay attention to the shapes when doing this. If you have a tensor `a` with shape `(64, 10)` and a tensor `b` with shape `(64,)`, doing `a/b` will give you an error because PyTorch will try to do the division across the columns (called broadcasting) but you'll get a size mismatch. The way to think about this is for each of the 64 examples, you only want to divide by one value, the sum in the denominator. So you need `b` to have a shape of `(64, 1)`. This way PyTorch will divide the 10 values in each row of `a` by the one value in each row of `b`. Pay attention to how you take the sum as well. You'll need to define the `dim` keyword in `torch.sum`. Setting `dim=0` takes the sum across the rows while `dim=1` takes the sum across the columns."
   ]
  },
  {
   "cell_type": "code",
   "execution_count": 7,
   "metadata": {},
   "outputs": [
    {
     "name": "stdout",
     "output_type": "stream",
     "text": [
      "torch.Size([64, 10])\n",
      "tensor([1.0000, 1.0000, 1.0000, 1.0000, 1.0000, 1.0000, 1.0000, 1.0000, 1.0000,\n",
      "        1.0000, 1.0000, 1.0000, 1.0000, 1.0000, 1.0000, 1.0000, 1.0000, 1.0000,\n",
      "        1.0000, 1.0000, 1.0000, 1.0000, 1.0000, 1.0000, 1.0000, 1.0000, 1.0000,\n",
      "        1.0000, 1.0000, 1.0000, 1.0000, 1.0000, 1.0000, 1.0000, 1.0000, 1.0000,\n",
      "        1.0000, 1.0000, 1.0000, 1.0000, 1.0000, 1.0000, 1.0000, 1.0000, 1.0000,\n",
      "        1.0000, 1.0000, 1.0000, 1.0000, 1.0000, 1.0000, 1.0000, 1.0000, 1.0000,\n",
      "        1.0000, 1.0000, 1.0000, 1.0000, 1.0000, 1.0000, 1.0000, 1.0000, 1.0000,\n",
      "        1.0000])\n"
     ]
    }
   ],
   "source": [
    "'''\n",
    "Solution\n",
    "'''\n",
    "def softmax(x):\n",
    "    return torch.exp(x)/torch.sum(torch.exp(x), dim=1).view(-1, 1)\n",
    "prob = softmax(outputs)\n",
    "# The right shape must be (64, 10)\n",
    "print(prob.shape)\n",
    "# Does it sum to 1?\n",
    "print(prob.sum(dim=1))"
   ]
  },
  {
   "cell_type": "markdown",
   "metadata": {},
   "source": [
    "## Building networks with PyTorch\n",
    "\n",
    "PyTorch provides a module `nn` that makes building networks much simpler. Here I'll show you how to build the same one as above with 784 inputs, 256 hidden units, 10 output units and a softmax output."
   ]
  },
  {
   "cell_type": "code",
   "execution_count": 8,
   "metadata": {},
   "outputs": [],
   "source": [
    "from torch import nn"
   ]
  },
  {
   "cell_type": "code",
   "execution_count": 9,
   "metadata": {},
   "outputs": [],
   "source": [
    "class Network(nn.Module):\n",
    "    def __init__(self):\n",
    "        super().__init__()\n",
    "        \n",
    "        # Inputs to hidden layer linear transformation\n",
    "        self.hidden = nn.Linear(784, 256)\n",
    "        # Output layer, 10 units - one for each digit\n",
    "        self.output = nn.Linear(256, 10)\n",
    "        \n",
    "        # Define sigmoid activation and softmax output\n",
    "        self.sigmoid = nn.Sigmoid()\n",
    "        self.softmax = nn.Softmax(dim=1)\n",
    "    def foreward(self, x):\n",
    "        # Passing the input tensor through each of our operation\n",
    "        x = self.hidden(x)\n",
    "        x = self.sigmoid(x)\n",
    "        x = self.output(x)\n",
    "        x = self.softmax(x)\n",
    "        return x"
   ]
  },
  {
   "cell_type": "markdown",
   "metadata": {},
   "source": [
    "Let's go through this bit by bit.\n",
    "\n",
    "```python\n",
    "class Network(nn.Module):\n",
    "```\n",
    "\n",
    "Here we're inheriting from `nn.Module`. Combined with `super().__init__()` this creates a class that tracks the architecture and provides a lot of useful methods and attributes. It is mandatory to inherit from `nn.Module` when you're creating a class for your network. The name of the class itself can be anything.\n",
    "\n",
    "```python\n",
    "self.hidden = nn.Linear(784, 256)\n",
    "```\n",
    "\n",
    "This line creates a module for a linear transformation, $x\\mathbf{W} + b$, with 784 inputs and 256 outputs and assigns it to `self.hidden`. The module automatically creates the weight and bias tensors which we'll use in the `forward` method. You can access the weight and bias tensors once the network (`net`) is created with `net.hidden.weight` and `net.hidden.bias`.\n",
    "\n",
    "```python\n",
    "self.output = nn.Linear(256, 10)\n",
    "```\n",
    "\n",
    "Similarly, this creates another linear transformation with 256 inputs and 10 outputs.\n",
    "\n",
    "```python\n",
    "self.sigmoid = nn.Sigmoid()\n",
    "self.softmax = nn.Softmax(dim=1)\n",
    "```\n",
    "\n",
    "Here I defined operations for the sigmoid activation and softmax output. Setting `dim=1` in `nn.Softmax(dim=1)` calculates softmax across the columns.\n",
    "\n",
    "```python\n",
    "def forward(self, x):\n",
    "```\n",
    "\n",
    "PyTorch networks created with `nn.Module` must have a `forward` method defined. It takes in a tensor `x` and passes it through the operations you defined in the `__init__` method.\n",
    "\n",
    "```python\n",
    "x = self.hidden(x)\n",
    "x = self.sigmoid(x)\n",
    "x = self.output(x)\n",
    "x = self.softmax(x)\n",
    "```\n",
    "\n",
    "Here the input tensor `x` is passed through each operation a reassigned to `x`. We can see that the input tensor goes through the hidden layer, then a sigmoid function, then the output layer, and finally the softmax function. It doesn't matter what you name the variables here, as long as the inputs and outputs of the operations match the network architecture you want to build. The order in which you define things in the `__init__` method doesn't matter, but you'll need to sequence the operations correctly in the `forward` method.\n",
    "\n",
    "Now we can create a `Network` object."
   ]
  },
  {
   "cell_type": "code",
   "execution_count": 10,
   "metadata": {},
   "outputs": [
    {
     "data": {
      "text/plain": [
       "Network(\n",
       "  (hidden): Linear(in_features=784, out_features=256, bias=True)\n",
       "  (output): Linear(in_features=256, out_features=10, bias=True)\n",
       "  (sigmoid): Sigmoid()\n",
       "  (softmax): Softmax()\n",
       ")"
      ]
     },
     "execution_count": 10,
     "metadata": {},
     "output_type": "execute_result"
    }
   ],
   "source": [
    "model = Network()\n",
    "model"
   ]
  },
  {
   "cell_type": "markdown",
   "metadata": {},
   "source": [
    "You can define the network somewhat more concisely and clearly using the `torch.nn.functional` module. This is the most common way you'll see networks defined as many operations are simple element-wise functions. We normally import this module as `F`, `import torch.nn.functional as F`."
   ]
  },
  {
   "cell_type": "code",
   "execution_count": 11,
   "metadata": {},
   "outputs": [],
   "source": [
    "import torch.nn.functional as F\n",
    "\n",
    "class Network(nn.Module):\n",
    "    def __init__(self):\n",
    "        super().__init__()\n",
    "        # Inputs to hidden layer linear transformation\n",
    "        self.hidden = nn.Linear(784, 256)\n",
    "        # Output layer, 10 units - one for each digit\n",
    "        self.output = nn.Linear(256, 10)\n",
    "        \n",
    "    def forward(self, x):\n",
    "        # Hidden layer with sigmoid activation\n",
    "        x = F.sigmoid(self.hidden(x))\n",
    "        # Output layer with softmax activation\n",
    "        x = F.softmax(self.output(x), dim=1)\n",
    "        \n",
    "        return x"
   ]
  },
  {
   "cell_type": "markdown",
   "metadata": {},
   "source": [
    "### Activation functions\n",
    "\n",
    "So far we've only been looking at the softmax activation, but in general any function can be used as an activation function. The only requirement is that for a network to approximate a non-linear function, the activation functions must be non-linear. Here are a few more examples of common activation functions: Tanh (hyperbolic tangent), and ReLU (rectified linear unit).\n",
    "\n",
    "<img src=\"assets/activation.png\" width=700px>\n",
    "\n",
    "In practice, the ReLU function is used almost exclusively as the activation function for hidden layers."
   ]
  },
  {
   "cell_type": "markdown",
   "metadata": {},
   "source": [
    "### Your Turn to Build a Network\n",
    "\n",
    "<img src=\"assets/mlp_mnist.png\" width=600px>\n",
    "\n",
    "> **Exercise:** Create a network with 784 input units, a hidden layer with 128 units and a ReLU activation, then a hidden layer with 64 units and a ReLU activation, and finally an output layer with a softmax activation as shown above. You can use a ReLU activation with the `nn.ReLU` module or `F.relu` function."
   ]
  },
  {
   "cell_type": "code",
   "execution_count": 13,
   "metadata": {},
   "outputs": [],
   "source": [
    "'''\n",
    "Solution\n",
    "'''\n",
    "\n",
    "class MyNetwork(nn.Module):\n",
    "    def __init__(self):\n",
    "        super().__init__()\n",
    "        # Defining the layers, 128, 64, 10 units each\n",
    "        self.fc1 = nn.Linear(784, 128)\n",
    "        self.fc2 = nn.Linear(128, 64)\n",
    "        # Output layer, 10 units - one for each digit\n",
    "        self.fc3 = nn.Linear(64, 10)\n",
    "        \n",
    "    def forward(self, x):\n",
    "        ''' Forward pass through the network, returns the output logits '''\n",
    "        \n",
    "        x = self.fc1(x)\n",
    "        x = F.relu(x)\n",
    "        x = self.fc2(x)\n",
    "        x = F.relu(x)\n",
    "        x = self.fc3(x)\n",
    "        x = F.softmax(x, dim=1)\n",
    "        \n",
    "        return x"
   ]
  },
  {
   "cell_type": "code",
   "execution_count": 14,
   "metadata": {},
   "outputs": [
    {
     "data": {
      "text/plain": [
       "MyNetwork(\n",
       "  (fc1): Linear(in_features=784, out_features=128, bias=True)\n",
       "  (fc2): Linear(in_features=128, out_features=64, bias=True)\n",
       "  (fc3): Linear(in_features=64, out_features=10, bias=True)\n",
       ")"
      ]
     },
     "execution_count": 14,
     "metadata": {},
     "output_type": "execute_result"
    }
   ],
   "source": [
    "model = MyNetwork()\n",
    "model "
   ]
  },
  {
   "cell_type": "markdown",
   "metadata": {},
   "source": [
    "### Initializing weights and biases\n",
    "\n",
    "The weights and such are automatically initialized for you, but it's possible to customize how they are initialized. The weights and biases are tensors attached to the layer you defined, you can get them with `model.fc1.weight` for instance."
   ]
  },
  {
   "cell_type": "code",
   "execution_count": 15,
   "metadata": {},
   "outputs": [
    {
     "name": "stdout",
     "output_type": "stream",
     "text": [
      "Parameter containing:\n",
      "tensor([[ 0.0273,  0.0149, -0.0263,  ..., -0.0172,  0.0244,  0.0090],\n",
      "        [ 0.0162, -0.0184,  0.0347,  ...,  0.0223,  0.0260,  0.0042],\n",
      "        [ 0.0167,  0.0269,  0.0102,  ...,  0.0230, -0.0153, -0.0050],\n",
      "        ...,\n",
      "        [ 0.0346, -0.0013,  0.0342,  ..., -0.0230,  0.0331,  0.0297],\n",
      "        [ 0.0261, -0.0061,  0.0175,  ...,  0.0175,  0.0204, -0.0354],\n",
      "        [ 0.0338, -0.0240, -0.0167,  ..., -0.0053, -0.0136, -0.0127]],\n",
      "       requires_grad=True)\n",
      "Parameter containing:\n",
      "tensor([ 2.7991e-02, -1.4198e-02,  3.5359e-02,  3.1563e-02,  2.6159e-02,\n",
      "        -1.9882e-02, -1.7027e-02, -2.0673e-02,  1.4200e-02, -1.2642e-02,\n",
      "        -1.3072e-02, -2.4067e-02,  2.3433e-03,  2.6468e-02, -2.3814e-02,\n",
      "        -2.6943e-02, -1.0385e-02, -6.8190e-03,  1.9417e-02,  1.9917e-02,\n",
      "        -1.0697e-03, -3.3807e-03,  1.4343e-02,  9.3981e-03,  2.3938e-02,\n",
      "        -1.3535e-02, -2.4146e-02,  1.0448e-02,  2.7869e-02, -7.5198e-03,\n",
      "         9.7357e-03, -1.4877e-02,  2.4394e-02,  3.4914e-02,  4.3953e-03,\n",
      "         3.2595e-02,  3.4081e-02, -2.9315e-02, -2.9178e-02, -6.9961e-06,\n",
      "        -6.9547e-03, -2.3425e-02,  2.3292e-02,  3.4334e-02, -2.4720e-02,\n",
      "        -1.6823e-02, -2.5527e-03,  1.8969e-02,  2.4064e-02,  3.5931e-03,\n",
      "        -1.2551e-02,  1.0495e-02, -2.4030e-02, -2.3620e-02,  2.6533e-02,\n",
      "         2.6291e-02,  2.5237e-02,  1.1528e-02, -2.9155e-02,  1.3143e-02,\n",
      "         1.5781e-02,  1.9820e-02, -2.7721e-02,  4.1889e-03,  2.2271e-02,\n",
      "         1.7057e-02, -2.8822e-02, -1.7141e-02,  3.3115e-02,  2.0568e-02,\n",
      "         3.5264e-02, -9.8333e-03, -2.0181e-03,  5.4757e-03, -4.6631e-03,\n",
      "        -3.2599e-02,  2.7925e-02, -2.2490e-02,  2.0690e-02,  8.1265e-03,\n",
      "        -2.0316e-02,  3.1224e-02,  1.3722e-02,  3.5395e-02, -1.6349e-02,\n",
      "        -7.6411e-03,  2.1737e-02,  2.3647e-02, -1.9785e-02,  1.7565e-02,\n",
      "        -2.4323e-02, -2.0309e-02, -1.1748e-02,  9.8447e-03, -3.5133e-02,\n",
      "        -2.2517e-02,  2.9709e-02, -1.1812e-03, -1.9960e-02, -3.1205e-02,\n",
      "        -3.4416e-02,  3.7631e-03,  6.4524e-03,  2.0853e-02, -1.4399e-02,\n",
      "        -2.4368e-03,  3.9212e-03, -3.0190e-02,  3.3050e-02, -3.3544e-02,\n",
      "         1.6743e-02, -6.0100e-03, -9.8132e-03,  2.9997e-02, -1.3846e-02,\n",
      "        -3.3095e-02,  3.3076e-02,  8.8814e-04, -3.4870e-02,  4.4796e-03,\n",
      "         3.2392e-02, -4.1517e-03,  2.6850e-02, -1.0348e-02, -1.8193e-02,\n",
      "        -1.2293e-02, -1.5129e-02, -3.4251e-02], requires_grad=True)\n"
     ]
    }
   ],
   "source": [
    "print(model.fc1.weight)\n",
    "print(model.fc1.bias)"
   ]
  },
  {
   "cell_type": "markdown",
   "metadata": {},
   "source": [
    "For custom initialization, we want to modify these tensors in place. These are actually autograd *Variables*, so we need to get back the actual tensors with `model.fc1.weight.data`. Once we have the tensors, we can fill them with zeros (for biases) or random normal values."
   ]
  },
  {
   "cell_type": "code",
   "execution_count": 16,
   "metadata": {},
   "outputs": [
    {
     "data": {
      "text/plain": [
       "tensor([0., 0., 0., 0., 0., 0., 0., 0., 0., 0., 0., 0., 0., 0., 0., 0., 0., 0., 0., 0., 0., 0., 0., 0.,\n",
       "        0., 0., 0., 0., 0., 0., 0., 0., 0., 0., 0., 0., 0., 0., 0., 0., 0., 0., 0., 0., 0., 0., 0., 0.,\n",
       "        0., 0., 0., 0., 0., 0., 0., 0., 0., 0., 0., 0., 0., 0., 0., 0., 0., 0., 0., 0., 0., 0., 0., 0.,\n",
       "        0., 0., 0., 0., 0., 0., 0., 0., 0., 0., 0., 0., 0., 0., 0., 0., 0., 0., 0., 0., 0., 0., 0., 0.,\n",
       "        0., 0., 0., 0., 0., 0., 0., 0., 0., 0., 0., 0., 0., 0., 0., 0., 0., 0., 0., 0., 0., 0., 0., 0.,\n",
       "        0., 0., 0., 0., 0., 0., 0., 0.])"
      ]
     },
     "execution_count": 16,
     "metadata": {},
     "output_type": "execute_result"
    }
   ],
   "source": [
    "# Set biases to all zeros\n",
    "model.fc1.bias.data.fill_(0)"
   ]
  },
  {
   "cell_type": "markdown",
   "metadata": {},
   "source": [
    "### Forward pass\n",
    "\n",
    "Now that we have a network, let's see what happens when we pass in an image."
   ]
  },
  {
   "cell_type": "code",
   "execution_count": 17,
   "metadata": {},
   "outputs": [
    {
     "data": {
      "image/png": "[encoded data removed]",
      "text/plain": [
       "<Figure size 432x648 with 2 Axes>"
      ]
     },
     "metadata": {
      "image/png": {
       "height": 226,
       "width": 423
      }
     },
     "output_type": "display_data"
    }
   ],
   "source": [
    "# Grab some data \n",
    "dataiter = iter(trainloader)\n",
    "images, labels = dataiter.next()\n",
    "\n",
    "# Resize images into a 1D vector, new shape is (batch size, color channels, image pixels) \n",
    "images.resize_(64, 1, 784)\n",
    "# or images.resize_(images.shape[0], 1, 784) to automatically get batch size\n",
    "\n",
    "# Forward pass through the network\n",
    "img_idx = 0\n",
    "ps = model.forward(images[img_idx,:])\n",
    "\n",
    "img = images[img_idx]\n",
    "helper.view_classify(img.view(1, 28, 28), ps)"
   ]
  },
  {
   "cell_type": "markdown",
   "metadata": {},
   "source": [
    "As you can see above, our network has basically no idea what this digit is. It's because we haven't trained it yet, all the weights are random!\n",
    "\n",
    "### Using `nn.Sequential`\n",
    "\n",
    "PyTorch provides a convenient way to build networks like this where a tensor is passed sequentially through operations, `nn.Sequential` ([documentation](https://pytorch.org/docs/master/nn.html#torch.nn.Sequential)). Using this to build the equivalent network:"
   ]
  },
  {
   "cell_type": "code",
   "execution_count": 18,
   "metadata": {},
   "outputs": [
    {
     "name": "stdout",
     "output_type": "stream",
     "text": [
      "Sequential(\n",
      "  (0): Linear(in_features=784, out_features=128, bias=True)\n",
      "  (1): ReLU()\n",
      "  (2): Linear(in_features=128, out_features=64, bias=True)\n",
      "  (3): ReLU()\n",
      "  (4): Linear(in_features=64, out_features=10, bias=True)\n",
      "  (5): Softmax()\n",
      ")\n"
     ]
    },
    {
     "data": {
      "image/png": "[encoded data removed]",
      "text/plain": [
       "<Figure size 432x648 with 2 Axes>"
      ]
     },
     "metadata": {
      "image/png": {
       "height": 226,
       "width": 423
      }
     },
     "output_type": "display_data"
    }
   ],
   "source": [
    "# Hyperparameters for our network\n",
    "input_size = 784\n",
    "hidden_sizes = [128, 64]\n",
    "output_size = 10\n",
    "\n",
    "# Build a feed-forward network\n",
    "model = nn.Sequential(nn.Linear(input_size, hidden_sizes[0]),\n",
    "                      nn.ReLU(),\n",
    "                      nn.Linear(hidden_sizes[0], hidden_sizes[1]),\n",
    "                      nn.ReLU(),\n",
    "                      nn.Linear(hidden_sizes[1], output_size),\n",
    "                      nn.Softmax(dim=1))\n",
    "print(model)\n",
    "\n",
    "# Forward pass through the network and display output\n",
    "images, labels = next(iter(trainloader))\n",
    "images.resize_(images.shape[0], 1, 784)\n",
    "ps = model.forward(images[0,:])\n",
    "helper.view_classify(images[0].view(1, 28, 28), ps)"
   ]
  },
  {
   "cell_type": "markdown",
   "metadata": {},
   "source": [
    "The operations are availble by passing in the appropriate index. For example, if you want to get first Linear operation and look at the weights, you'd use `model[0]`."
   ]
  },
  {
   "cell_type": "code",
   "execution_count": 19,
   "metadata": {},
   "outputs": [
    {
     "name": "stdout",
     "output_type": "stream",
     "text": [
      "Linear(in_features=784, out_features=128, bias=True)\n"
     ]
    },
    {
     "data": {
      "text/plain": [
       "Parameter containing:\n",
       "tensor([[ 0.0078, -0.0006, -0.0095,  ..., -0.0183,  0.0302, -0.0150],\n",
       "        [ 0.0124, -0.0292, -0.0228,  ...,  0.0117,  0.0018, -0.0036],\n",
       "        [ 0.0300,  0.0148, -0.0281,  ...,  0.0159,  0.0036, -0.0262],\n",
       "        ...,\n",
       "        [ 0.0097, -0.0141,  0.0026,  ..., -0.0284, -0.0044, -0.0017],\n",
       "        [-0.0228,  0.0204, -0.0117,  ..., -0.0073,  0.0336,  0.0042],\n",
       "        [ 0.0357,  0.0055, -0.0135,  ..., -0.0194,  0.0073,  0.0198]],\n",
       "       requires_grad=True)"
      ]
     },
     "execution_count": 19,
     "metadata": {},
     "output_type": "execute_result"
    }
   ],
   "source": [
    "print(model[0])\n",
    "model[0].weight"
   ]
  },
  {
   "cell_type": "markdown",
   "metadata": {},
   "source": [
    "You can also pass in an `OrderedDict` to name the individual layers and operations, instead of using incremental integers. Note that dictionary keys must be unique, so _each operation must have a different name_."
   ]
  },
  {
   "cell_type": "code",
   "execution_count": 20,
   "metadata": {},
   "outputs": [
    {
     "data": {
      "text/plain": [
       "Sequential(\n",
       "  (fc1): Linear(in_features=784, out_features=128, bias=True)\n",
       "  (relu1): ReLU()\n",
       "  (fc2): Linear(in_features=128, out_features=64, bias=True)\n",
       "  (relu2): ReLU()\n",
       "  (output): Linear(in_features=64, out_features=10, bias=True)\n",
       "  (softmax): Softmax()\n",
       ")"
      ]
     },
     "execution_count": 20,
     "metadata": {},
     "output_type": "execute_result"
    }
   ],
   "source": [
    "from collections import OrderedDict\n",
    "model = nn.Sequential(OrderedDict([\n",
    "                      ('fc1', nn.Linear(input_size, hidden_sizes[0])),\n",
    "                      ('relu1', nn.ReLU()),\n",
    "                      ('fc2', nn.Linear(hidden_sizes[0], hidden_sizes[1])),\n",
    "                      ('relu2', nn.ReLU()),\n",
    "                      ('output', nn.Linear(hidden_sizes[1], output_size)),\n",
    "                      ('softmax', nn.Softmax(dim=1))]))\n",
    "model"
   ]
  },
  {
   "cell_type": "markdown",
   "metadata": {},
   "source": [
    "Now you can access layers either by integer or the name"
   ]
  },
  {
   "cell_type": "code",
   "execution_count": 21,
   "metadata": {},
   "outputs": [
    {
     "name": "stdout",
     "output_type": "stream",
     "text": [
      "Linear(in_features=784, out_features=128, bias=True)\n",
      "Linear(in_features=784, out_features=128, bias=True)\n"
     ]
    }
   ],
   "source": [
    "print(model[0])\n",
    "print(model.fc1)"
   ]
  },
  {
   "cell_type": "code",
   "execution_count": null,
   "metadata": {},
   "outputs": [],
   "source": []
  }
 ],
 "metadata": {
  "kernelspec": {
   "display_name": "Python 3",
   "language": "python",
   "name": "python3"
  },
  "language_info": {
   "codemirror_mode": {
    "name": "ipython",
    "version": 3
   },
   "file_extension": ".py",
   "mimetype": "text/x-python",
   "name": "python",
   "nbconvert_exporter": "python",
   "pygments_lexer": "ipython3",
   "version": "3.6.8"
  }
 },
 "nbformat": 4,
 "nbformat_minor": 2
}
